{
  "nbformat": 4,
  "nbformat_minor": 0,
  "metadata": {
    "colab": {
      "name": "Copy of Untitled23.ipynb",
      "provenance": [],
      "include_colab_link": true
    },
    "kernelspec": {
      "name": "python3",
      "display_name": "Python 3"
    },
    "language_info": {
      "name": "python"
    }
  },
  "cells": [
    {
      "cell_type": "markdown",
      "metadata": {
        "id": "view-in-github",
        "colab_type": "text"
      },
      "source": [
        "<a href=\"https://colab.research.google.com/github/MohammadSaad006/c120pro/blob/main/Copy_of_Untitled23.ipynb\" target=\"_parent\"><img src=\"https://colab.research.google.com/assets/colab-badge.svg\" alt=\"Open In Colab\"/></a>"
      ]
    },
    {
      "cell_type": "code",
      "execution_count": null,
      "metadata": {
        "id": "Dvaz-ZWXK8K4"
      },
      "outputs": [],
      "source": [
        "import pandas as pd\n",
        "from sklearn.model_selection import train_test_split\n",
        "df= pd.read_csv(\"https://raw.githubusercontent.com/whitehatjr/datasets/master/C120/diabetes.csv\")\n",
        "X=df[[\"glucose\",\"bloodpressure\"]]\n",
        "y= df[\"diabetes\"]\n",
        "X_train, X_test, y_train, y_test = train_test_split(X, y, test_size=0.25, random_state=42) \n"
      ]
    },
    {
      "cell_type": "code",
      "source": [
        "from sklearn.naive_bayes import GaussianNB\n",
        "from sklearn.metrics import accuracy_score\n",
        "from sklearn.preprocessing import StandardScaler\n",
        "sc= StandardScaler()\n",
        "X_train=sc.fit_transform(X_train)\n",
        "X_test=sc.fit_transform(X_test)\n",
        "model1= GaussianNB()\n",
        "model1.fit(X_train,y_train)\n",
        "y_pred = model1.predict(X_test)\n",
        "accuracy=accuracy_score(y_test,y_pred)\n",
        "print(accuracy)"
      ],
      "metadata": {
        "colab": {
          "base_uri": "https://localhost:8080/"
        },
        "id": "nqZcirpmL4-a",
        "outputId": "cd42a030-19ff-45a6-c267-603bbab99729"
      },
      "execution_count": null,
      "outputs": [
        {
          "output_type": "stream",
          "name": "stdout",
          "text": [
            "0.9437751004016064\n"
          ]
        }
      ]
    },
    {
      "cell_type": "code",
      "source": [
        "from sklearn.linear_model import LogisticRegression\n",
        "model2= LogisticRegression(random_state=42)\n",
        "model2.fit(X_train,y_train)\n",
        "y_pred2 = model2.predict(X_test)\n",
        "accuracy2=accuracy_score(y_test,y_pred2)\n",
        "print(accuracy2)\n"
      ],
      "metadata": {
        "colab": {
          "base_uri": "https://localhost:8080/"
        },
        "id": "DLPUNQBQPdFC",
        "outputId": "74d95036-67a1-4f75-cfee-4d8e1a3f3b36"
      },
      "execution_count": null,
      "outputs": [
        {
          "output_type": "stream",
          "name": "stdout",
          "text": [
            "0.9156626506024096\n"
          ]
        }
      ]
    },
    {
      "cell_type": "code",
      "source": [
        "df=pd.read_csv(\"Data.csv\")\n",
        "print(df.head)"
      ],
      "metadata": {
        "id": "c8FXdO40UnlB",
        "outputId": "f4a22a96-e536-42ae-8f76-432d80fe978b",
        "colab": {
          "base_uri": "https://localhost:8080/"
        }
      },
      "execution_count": null,
      "outputs": [
        {
          "output_type": "stream",
          "name": "stdout",
          "text": [
            "<bound method NDFrame.head of        age          workclass education_level  education-num  \\\n",
            "0       39          State-gov       Bachelors           13.0   \n",
            "1       50   Self-emp-not-inc       Bachelors           13.0   \n",
            "2       38            Private         HS-grad            9.0   \n",
            "3       53            Private            11th            7.0   \n",
            "4       28            Private       Bachelors           13.0   \n",
            "...    ...                ...             ...            ...   \n",
            "45217   33            Private       Bachelors           13.0   \n",
            "45218   39            Private       Bachelors           13.0   \n",
            "45219   38            Private       Bachelors           13.0   \n",
            "45220   44            Private       Bachelors           13.0   \n",
            "45221   35       Self-emp-inc       Bachelors           13.0   \n",
            "\n",
            "            marital-status          occupation    relationship  \\\n",
            "0            Never-married        Adm-clerical   Not-in-family   \n",
            "1       Married-civ-spouse     Exec-managerial         Husband   \n",
            "2                 Divorced   Handlers-cleaners   Not-in-family   \n",
            "3       Married-civ-spouse   Handlers-cleaners         Husband   \n",
            "4       Married-civ-spouse      Prof-specialty            Wife   \n",
            "...                    ...                 ...             ...   \n",
            "45217        Never-married      Prof-specialty       Own-child   \n",
            "45218             Divorced      Prof-specialty   Not-in-family   \n",
            "45219   Married-civ-spouse      Prof-specialty         Husband   \n",
            "45220             Divorced        Adm-clerical       Own-child   \n",
            "45221   Married-civ-spouse     Exec-managerial         Husband   \n",
            "\n",
            "                      race      sex  capital-gain  capital-loss  \\\n",
            "0                    White     Male        2174.0           0.0   \n",
            "1                    White     Male           0.0           0.0   \n",
            "2                    White     Male           0.0           0.0   \n",
            "3                    Black     Male           0.0           0.0   \n",
            "4                    Black   Female           0.0           0.0   \n",
            "...                    ...      ...           ...           ...   \n",
            "45217                White     Male           0.0           0.0   \n",
            "45218                White   Female           0.0           0.0   \n",
            "45219                White     Male           0.0           0.0   \n",
            "45220   Asian-Pac-Islander     Male        5455.0           0.0   \n",
            "45221                White     Male           0.0           0.0   \n",
            "\n",
            "       hours-per-week  native-country income  \n",
            "0                40.0   United-States  <=50K  \n",
            "1                13.0   United-States  <=50K  \n",
            "2                40.0   United-States  <=50K  \n",
            "3                40.0   United-States  <=50K  \n",
            "4                40.0            Cuba  <=50K  \n",
            "...               ...             ...    ...  \n",
            "45217            40.0   United-States  <=50K  \n",
            "45218            36.0   United-States  <=50K  \n",
            "45219            50.0   United-States  <=50K  \n",
            "45220            40.0   United-States  <=50K  \n",
            "45221            60.0   United-States   >50K  \n",
            "\n",
            "[45222 rows x 14 columns]>\n"
          ]
        }
      ]
    },
    {
      "cell_type": "code",
      "source": [
        "X1=df[[\"age\",\"hours-per-week\",\"education-num\",\"capital-gain\",\"capital-loss\"]]\n",
        "y1=df[\"income\"]\n",
        "X_train1, X_test1, y_train1, y_test1 = train_test_split(X1, y1, test_size=0.25, random_state=42) \n",
        "X_train1=sc.fit_transform(X_train1)\n",
        "X_test1=sc.fit_transform(X_test1)\n",
        "model3= GaussianNB()\n",
        "model3.fit(X_train1,y_train1)\n",
        "y_pred3 = model3.predict(X_test1)\n",
        "accuracy3=accuracy_score(y_test1,y_pred3)\n",
        "print(accuracy3)"
      ],
      "metadata": {
        "id": "Fne7ypyIUwAK",
        "outputId": "83a7c534-81b9-45d1-8a2c-3b516511655f",
        "colab": {
          "base_uri": "https://localhost:8080/"
        }
      },
      "execution_count": null,
      "outputs": [
        {
          "output_type": "stream",
          "name": "stdout",
          "text": [
            "0.7896692021935255\n"
          ]
        }
      ]
    },
    {
      "cell_type": "code",
      "source": [
        "model4= LogisticRegression(random_state=42)\n",
        "model4.fit(X_train1,y_train1)\n",
        "y_pred4 = model4.predict(X_test1)\n",
        "accuracy4=accuracy_score(y_test1,y_pred4)\n",
        "print(accuracy4)"
      ],
      "metadata": {
        "id": "aVlz9q47Vybn",
        "outputId": "ae5e758b-ad5a-4b48-9f85-0cda30d3bd8d",
        "colab": {
          "base_uri": "https://localhost:8080/"
        }
      },
      "execution_count": null,
      "outputs": [
        {
          "output_type": "stream",
          "name": "stdout",
          "text": [
            "0.8116929064213692\n"
          ]
        }
      ]
    }
  ]
}